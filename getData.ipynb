{
 "cells": [
  {
   "cell_type": "code",
   "execution_count": 1,
   "metadata": {},
   "outputs": [],
   "source": [
    "# Import modules\n",
    "import pymongo\n",
    "import requests\n",
    "import config\n",
    "from pprint import pprint"
   ]
  },
  {
   "cell_type": "code",
   "execution_count": 2,
   "metadata": {},
   "outputs": [],
   "source": [
    "# Connect to MongoDB\n",
    "conn = 'mongodb://localhost:27017'\n",
    "client = pymongo.MongoClient(conn)\n",
    "\n",
    "# Define the database in Mongo\n",
    "db = client.recipeDB\n",
    "collection = db.recipe"
   ]
  },
  {
   "cell_type": "code",
   "execution_count": 3,
   "metadata": {},
   "outputs": [],
   "source": [
    "# Establish API Call URL\n",
    "\n",
    "ingredient_list = [\"chicken\", \"beef\",\"carrot\", \"shrimp\", \"fish\",\"pork\", \"tofu\", \"beans\", \"Japanese\", \"Mediterranean\",\n",
    "                \"Italian\", \"rice\", \"spicy\", \"easy\", \"quick\", \"garlic\",\n",
    "                \"lemon\", \"herb\", \"homemade\",\"cookies\", \"baked\", \"oven\", \n",
    "                \"one-pot\", \"skillet\", \"pasta\"] \n",
    "\n",
    "\n",
    "for ingredient in ingredient_list:\n",
    "    try:\n",
    "        query = ingredient\n",
    "        url=f\"https://api.edamam.com/search?q={query}&app_id={config.api_id}&app_key={config.api_key}&from=0&to=10\"\n",
    "\n",
    "        # Make request\n",
    "        data = requests.get(url)\n",
    "\n",
    "        # Store in JSON\n",
    "        data_json = data.json()\n",
    "        recipe_hits = data_json['hits']\n",
    "\n",
    "        for i in range(len(recipe_hits)):\n",
    "\n",
    "            recipe = recipe_hits[i]['recipe']\n",
    "            total_nurtrients = recipe['totalNutrients']\n",
    "\n",
    "            for key, value in total_nurtrients.items(): \n",
    "                if \".\" in key:\n",
    "                    new_key = \"SUGAR added\"\n",
    "                    old_key = \"SUGAR.added\"\n",
    "                    total_nurtrients[new_key] = total_nurtrients.pop(old_key)\n",
    "\n",
    "        #insert JSON into MongoDB\n",
    "        collection.insert_many(recipe_hits)\n",
    "        \n",
    "    except:\n",
    "        print(\"error\")"
   ]
  },
  {
   "cell_type": "code",
   "execution_count": null,
   "metadata": {},
   "outputs": [],
   "source": []
  }
 ],
 "metadata": {
  "kernelspec": {
   "display_name": "Python [conda env:PythonData]",
   "language": "python",
   "name": "conda-env-PythonData-py"
  },
  "language_info": {
   "codemirror_mode": {
    "name": "ipython",
    "version": 3
   },
   "file_extension": ".py",
   "mimetype": "text/x-python",
   "name": "python",
   "nbconvert_exporter": "python",
   "pygments_lexer": "ipython3",
   "version": "3.6.10"
  }
 },
 "nbformat": 4,
 "nbformat_minor": 4
}
